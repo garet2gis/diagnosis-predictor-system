{
 "cells": [
  {
   "cell_type": "code",
   "execution_count": 2,
   "metadata": {
    "_cell_guid": "b1076dfc-b9ad-4769-8c92-a6c4dae69d19",
    "_uuid": "8f2839f25d086af736a60e9eeb907d3b93b6e0e5"
   },
   "outputs": [],
   "source": [
    "import numpy as np\n",
    "import pandas as pd\n",
    "import spacy\n",
    "import json\n",
    "import pickle\n",
    "from joblib import dump, load"
   ]
  },
  {
   "cell_type": "code",
   "execution_count": 3,
   "metadata": {},
   "outputs": [],
   "source": [
    "# data = pd.read_csv('data/heart_failure_clinical_records_dataset.csv')"
   ]
  },
  {
   "cell_type": "code",
   "execution_count": 4,
   "metadata": {},
   "outputs": [],
   "source": [
    "class ObservationsParser:\n",
    "    \n",
    "    def __init__(self):\n",
    "\n",
    "        self.model = spacy.load('ru_core_news_lg')\n",
    "        self.di = {}\n",
    "        \n",
    "    \n",
    "    def print_tokens(self):\n",
    "\n",
    "        for token in self.doc:\n",
    "            token_ind = token.i\n",
    "            token_text = token.text\n",
    "            token_pos = token.pos_\n",
    "            token_dep = token.dep_ \n",
    "            token_head = token.head.text\n",
    "            print(f\"{token_ind:<10}{token_text:<12}{token_pos:<10}\" \\\n",
    "                  f\"{token_dep:<10}{token_head:<12}\")\n",
    "        \n",
    "           \n",
    "    def find_features(self):\n",
    "\n",
    "        cur_result = {'Название признака':[], 'Значение': []}\n",
    "\n",
    "        for token in self.doc:\n",
    "            if token.i != len(self.doc)-1:\n",
    "                if self.doc[token.i].pos_ in ['NOUN','PROPN']:\n",
    "                    cur_feature = []\n",
    "                    cur_value = []\n",
    "                    ind1 = 0\n",
    "                    \n",
    "                    if self.doc[token.i+1].pos_ == 'NUM':\n",
    "                        ind2 = 0\n",
    "                        while self.doc[token.i+ind1].pos_ != 'PUNCT':\n",
    "                            cur_feature.append(self.doc[token.i+ind1].text)\n",
    "                            ind1 -= 1\n",
    "\n",
    "                        cur_feature.reverse()\n",
    "                        cur_value = self.doc[token.i+1].text\n",
    "                        cur_result['Название признака'].append(' '.join(cur_feature))\n",
    "                        cur_result['Значение'].append(cur_value)\n",
    "                        \n",
    "                    elif self.doc[token.i+1].text == ':':\n",
    "                        ind2 = 2\n",
    "                        while self.doc[token.i+ind1].pos_ != 'PUNCT':\n",
    "                            cur_feature.append(self.doc[token.i+ind1].text)\n",
    "                            ind1 -= 1\n",
    "\n",
    "                        cur_feature.reverse()\n",
    "\n",
    "                        while self.doc[token.i+ind2].pos_ != 'PUNCT':\n",
    "                            cur_value.append(self.doc[token.i+ind2].text)\n",
    "                            ind2 += 1\n",
    "\n",
    "                        cur_result['Название признака'].append(' '.join(cur_feature))                    \n",
    "                        cur_result['Значение'].append(' '.join(cur_value))\n",
    "                        \n",
    "                        \n",
    "        self.di = cur_result\n",
    "    \n",
    "    \n",
    "    def synon(self):\n",
    "        \n",
    "        proc1 = ['женский','женщина','женск','жен']\n",
    "        proc2 = ['мужской','мужчина','мужск','муж']\n",
    "        proc3 = ['присутствует','присут','прис','есть']\n",
    "        proc4 = ['отсутствует','отсут','отс','нету','нет']\n",
    "        res = []\n",
    "        \n",
    "        for val in self.di['Значение']:\n",
    "            for p, z in zip([proc1,proc2,proc3,proc4], ['1','0','1','0']):\n",
    "                for i in p:\n",
    "                    val = val.lower().replace(i, z)\n",
    "            for p, z in zip([['ж'],['м']],['1','0']):\n",
    "                for i in p:\n",
    "                    if len(val) == 1:\n",
    "                        val = val.lower().replace(i, z)\n",
    "            res.append(val.strip())\n",
    "        self.di['Значение'] = res\n",
    "        res = []\n",
    "        \n",
    "        proc5 = ['креатининфосфокиназа', 'креатинфосфокиназа', 'креатинкиназа']\n",
    "        \n",
    "        for val in self.di['Название признака']:\n",
    "            for p, z in zip([proc5], ['кфк']):\n",
    "                for i in p:\n",
    "                    val = val.lower().replace(i, z)\n",
    "            res.append(val.strip())\n",
    "        self.di['Название признака'] = res \n",
    "        \n",
    "        \n",
    "    def get_features(self, observation: str) -> pd.DataFrame:\n",
    "        \n",
    "        self.data = '. ' + observation + ' .'\n",
    "        self.doc = self.model(self.data)\n",
    "        self.find_features()\n",
    "        self.synon()\n",
    "        return pd.DataFrame(self.di)"
   ]
  },
  {
   "cell_type": "code",
   "execution_count": 9,
   "metadata": {},
   "outputs": [],
   "source": [
    "class ModelHD:\n",
    "    \"\"\"\n",
    "    модель на сердечную недостаточность\n",
    "    \n",
    "    Args:\n",
    "        sample (str): строка с наблюдением \n",
    "        parser (экземпляр ObservationsParser): парсер\n",
    "        \n",
    "    Returns:\n",
    "        str: строка с диагнозом\n",
    "    \"\"\"\n",
    "    \n",
    "    def __init__(self, parser):\n",
    "        self.parser = parser\n",
    "        self.req_features_values_ru_1 = {'возраст':60.0, 'анемия':0, 'кфк':250.0, 'фракция выброса':38.0, \n",
    "                                         'высокое кровяное давление':0, 'тромбоциты':262000.0, 'креатинин':1.1, \n",
    "                                         'натрий':137.0, 'пол':1, 'курение':0, 'время наблюдения':115.0}\n",
    "        self.req_features_ru_1 = list(self.req_features_values_ru_1.keys())\n",
    "        self.model = pickle.load(open(f'model/model2_rf.pkl','rb'))\n",
    "    \n",
    "    \n",
    "    def feature_append(self, feat, val):\n",
    "        if feat in self.df['Название признака'].values:\n",
    "            self.df.loc[self.df.loc[self.df['Название признака']==feat].index] = [feat, val]\n",
    "        else:\n",
    "            self.df.loc[len(self.df.index)] = [feat, val]\n",
    "\n",
    "    \n",
    "    def values_to_int(self):\n",
    "        self.df = self.df.astype({'Значение': float})\n",
    "    \n",
    "    \n",
    "    def requirements(self, inplace=False):\n",
    "        cur_features = self.df[self.df['Название признака'].isin(self.req_features_ru_1)]['Название признака'].values\n",
    "        cur_values = self.df[self.df['Название признака'].isin(self.req_features_ru_1)]['Значение'].values\n",
    "        diff = list(set(self.req_features_ru_1) - set(cur_features))\n",
    "        \n",
    "        if diff:\n",
    "            print(f'Отсутствующие признаки {len(diff)}/{len(self.req_features_ru_1)}:\\n{diff}')\n",
    "            if inplace:\n",
    "                print('Автодополнение')\n",
    "                for d in diff:\n",
    "                    self.feature_append(d,self.req_features_values_ru_1[d])\n",
    "        else:\n",
    "            print('Норм')\n",
    "           \n",
    "        \n",
    "    def load_heart_data(self, data: list):\n",
    " \n",
    "        df = pd.DataFrame([data], columns=['age','anaemia','creatinine_phosphokinase','ejection_fraction','high_blood_pressure',\n",
    "                                           'platelets','serum_creatinine','serum_sodium','sex','smoking','time'])\n",
    "\n",
    "        # min_max_scaler = load('enc/scaler_hd.joblib')\n",
    "        min_max_scaler = pickle.load(open(f'enc/scaler_hd.pkl','rb'))\n",
    "        # ordinal_encoder = load('enc/encoder_hd.joblib')\n",
    "        ordinal_encoder = pickle.load(open(f'enc/encoder_hd.pkl','rb'))\n",
    "\n",
    "        bins = [0, 50, 60, 70, 80, 90, 100]\n",
    "        labels = ['<50', '50-60', '60-70', '70-80', '80-90', '90+']\n",
    "        df['AgeGroup'] = pd.cut(df['age'], bins=bins, labels=labels, right=False)\n",
    "\n",
    "        categorical_features = ['AgeGroup']\n",
    "        df[categorical_features] = ordinal_encoder.transform(df[categorical_features])\n",
    "\n",
    "        df.drop('age', axis=1, inplace=True)\n",
    "\n",
    "        numeric_features = ['creatinine_phosphokinase', 'ejection_fraction', 'platelets', 'serum_creatinine', 'serum_sodium', 'time']\n",
    "        df[numeric_features] = min_max_scaler.transform(df[numeric_features])\n",
    "\n",
    "        return df\n",
    "    \n",
    "    \n",
    "    def check_valid_data(self):\n",
    "        for i in self.req_features_values_ru_1.keys():\n",
    "            j = self.df.loc[self.df['Название признака']==i]['Значение'].values[0]\n",
    "            try:\n",
    "                float(j)\n",
    "            except ValueError:\n",
    "                print(f'Неподходящий тип фичи: {i}')\n",
    "                print('Замена')\n",
    "                self.feature_append(i, self.req_features_values_ru_1[i])\n",
    "    \n",
    "    \n",
    "    def run_model(self, sample):\n",
    "        \"\"\"\n",
    "        прогноз модели\n",
    "\n",
    "        Returns:\n",
    "            str: строка с диагнозом\n",
    "        \"\"\"\n",
    "        \n",
    "        self.sample = sample\n",
    "        self.df = self.parser.get_features(self.sample)\n",
    "        df_checkpoint = self.df.copy()\n",
    "        self.requirements(inplace=True)\n",
    "        self.check_valid_data()\n",
    "        X = []\n",
    "        for i in self.req_features_values_ru_1.keys():\n",
    "            X.append(self.df.loc[self.df['Название признака']==i]['Значение'].values[0])\n",
    "        X = list(map(float, X))\n",
    "        X = self.load_heart_data(X)\n",
    "        \n",
    "        preds = self.model.predict_proba(X)\n",
    "        preds = round(preds[0][1], 3)*100\n",
    "        \n",
    "        return df_checkpoint.to_dict('list'), f'Риск летального исхода от сердечной недостаточности: {preds}%'"
   ]
  },
  {
   "cell_type": "code",
   "execution_count": 6,
   "metadata": {},
   "outputs": [],
   "source": [
    "parser = ObservationsParser()"
   ]
  },
  {
   "cell_type": "code",
   "execution_count": 11,
   "metadata": {},
   "outputs": [],
   "source": [
    "res = ModelHD(parser)"
   ]
  },
  {
   "cell_type": "code",
   "execution_count": 10,
   "metadata": {},
   "outputs": [],
   "source": [
    "test_observation = 'Бибаапбапбdfdfбуба вав, Пациент ФИО, ,возраст 68 лет, показатель 3, показатель2: 55, анемия: присутствуетs, креатининфосфокиназа 646, фракция выброса: 25, высокое кровяное давление: нет, тромбоциты 305000.0, Креатинин 2.1, чото осмотр пуксреньк, курение: нет, время наблюдения 108. Осмотр показал пиппупавап аававап'\n",
    "test_observation2 = 'пациент: здоров, возраст 3, пол: Ж, Креатинкиназа: 100000, анемия: нетфыэ'"
   ]
  },
  {
   "cell_type": "code",
   "execution_count": 12,
   "metadata": {},
   "outputs": [
    {
     "name": "stdout",
     "output_type": "stream",
     "text": [
      "Отсутствующие признаки 2/11:\n",
      "['натрий', 'пол']\n",
      "Автодополнение\n",
      "Неподходящий тип фичи: анемия\n",
      "Замена\n"
     ]
    }
   ],
   "source": [
    "df, pred = res.run_model(test_observation)"
   ]
  },
  {
   "cell_type": "code",
   "execution_count": 13,
   "metadata": {},
   "outputs": [
    {
     "data": {
      "text/plain": [
       "'Риск летального исхода от сердечной недостаточности: 23.9%'"
      ]
     },
     "execution_count": 13,
     "metadata": {},
     "output_type": "execute_result"
    }
   ],
   "source": [
    "df"
   ]
  },
  {
   "cell_type": "code",
   "execution_count": null,
   "metadata": {},
   "outputs": [],
   "source": [
    "pred"
   ]
  },
  {
   "cell_type": "code",
   "execution_count": null,
   "metadata": {},
   "outputs": [],
   "source": [
    "df, pred = res.run_model(test_observation2)"
   ]
  },
  {
   "cell_type": "code",
   "execution_count": null,
   "metadata": {},
   "outputs": [],
   "source": []
  }
 ],
 "metadata": {
  "kernelspec": {
   "display_name": "Python 3 (ipykernel)",
   "language": "python",
   "name": "python3"
  },
  "language_info": {
   "codemirror_mode": {
    "name": "ipython",
    "version": 3
   },
   "file_extension": ".py",
   "mimetype": "text/x-python",
   "name": "python",
   "nbconvert_exporter": "python",
   "pygments_lexer": "ipython3",
   "version": "3.8.13"
  }
 },
 "nbformat": 4,
 "nbformat_minor": 4
}
