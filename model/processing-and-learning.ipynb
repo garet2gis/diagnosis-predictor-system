{
 "cells": [
  {
   "cell_type": "code",
   "execution_count": 1,
   "metadata": {
    "_cell_guid": "b1076dfc-b9ad-4769-8c92-a6c4dae69d19",
    "_uuid": "8f2839f25d086af736a60e9eeb907d3b93b6e0e5"
   },
   "outputs": [],
   "source": [
    "import numpy as np\n",
    "import pandas as pd\n",
    "import matplotlib.pyplot as plt\n",
    "import seaborn as sns\n",
    "import math\n",
    "import json\n",
    "import pickle"
   ]
  },
  {
   "cell_type": "code",
   "execution_count": 2,
   "metadata": {},
   "outputs": [],
   "source": [
    "from IPython.core.interactiveshell import InteractiveShell\n",
    "InteractiveShell.ast_node_interactivity = \"all\"\n",
    "pd.set_option('display.max_columns', None)"
   ]
  },
  {
   "cell_type": "code",
   "execution_count": 3,
   "metadata": {},
   "outputs": [],
   "source": [
    "import torch\n",
    "import torch.nn as nn\n",
    "import torch.nn.functional as F\n",
    "import torch.optim as optim\n",
    "import torchvision\n",
    "from torchvision import transforms\n",
    "from torch.utils.data import DataLoader, Dataset, random_split"
   ]
  },
  {
   "cell_type": "code",
   "execution_count": 4,
   "metadata": {},
   "outputs": [],
   "source": [
    "from sklearn.ensemble import RandomForestClassifier\n",
    "from sklearn.model_selection import train_test_split\n",
    "from sklearn.metrics import f1_score, accuracy_score, confusion_matrix, classification_report"
   ]
  },
  {
   "cell_type": "code",
   "execution_count": 5,
   "metadata": {},
   "outputs": [],
   "source": [
    "USE_CUDA = torch.cuda.is_available()\n",
    "device = \"cuda\" if USE_CUDA else \"cpu\""
   ]
  },
  {
   "cell_type": "markdown",
   "metadata": {},
   "source": [
    "## Данные"
   ]
  },
  {
   "cell_type": "code",
   "execution_count": 6,
   "metadata": {},
   "outputs": [],
   "source": [
    "data = pd.read_csv('data/dataset.csv') # болезнь - симптомы\n",
    "df_description = pd.read_csv('data/symptom_Description.csv') # болезнь - описание\n",
    "df_precaution = pd.read_csv('data/symptom_precaution.csv') # болезнь - рекомендации\n",
    "df_severity = pd.read_csv('data/Symptom-severity.csv') # симпом - вес"
   ]
  },
  {
   "cell_type": "code",
   "execution_count": 7,
   "metadata": {},
   "outputs": [],
   "source": [
    "di_description = {val[0]: val[1] for val in df_description.values}\n",
    "di_precaution = {val[0]: list(val[1:5]) for val in df_precaution.values}"
   ]
  },
  {
   "cell_type": "code",
   "execution_count": 8,
   "metadata": {},
   "outputs": [
    {
     "data": {
      "text/html": [
       "<div>\n",
       "<style scoped>\n",
       "    .dataframe tbody tr th:only-of-type {\n",
       "        vertical-align: middle;\n",
       "    }\n",
       "\n",
       "    .dataframe tbody tr th {\n",
       "        vertical-align: top;\n",
       "    }\n",
       "\n",
       "    .dataframe thead th {\n",
       "        text-align: right;\n",
       "    }\n",
       "</style>\n",
       "<table border=\"1\" class=\"dataframe\">\n",
       "  <thead>\n",
       "    <tr style=\"text-align: right;\">\n",
       "      <th></th>\n",
       "      <th>Disease</th>\n",
       "      <th>Symptom_1</th>\n",
       "      <th>Symptom_2</th>\n",
       "      <th>Symptom_3</th>\n",
       "      <th>Symptom_4</th>\n",
       "      <th>Symptom_5</th>\n",
       "      <th>Symptom_6</th>\n",
       "      <th>Symptom_7</th>\n",
       "      <th>Symptom_8</th>\n",
       "      <th>Symptom_9</th>\n",
       "      <th>Symptom_10</th>\n",
       "      <th>Symptom_11</th>\n",
       "      <th>Symptom_12</th>\n",
       "      <th>Symptom_13</th>\n",
       "      <th>Symptom_14</th>\n",
       "      <th>Symptom_15</th>\n",
       "      <th>Symptom_16</th>\n",
       "      <th>Symptom_17</th>\n",
       "    </tr>\n",
       "  </thead>\n",
       "  <tbody>\n",
       "    <tr>\n",
       "      <th>0</th>\n",
       "      <td>Fungal infection</td>\n",
       "      <td>itching</td>\n",
       "      <td>skin_rash</td>\n",
       "      <td>nodal_skin_eruptions</td>\n",
       "      <td>dischromic _patches</td>\n",
       "      <td>NaN</td>\n",
       "      <td>NaN</td>\n",
       "      <td>NaN</td>\n",
       "      <td>NaN</td>\n",
       "      <td>NaN</td>\n",
       "      <td>NaN</td>\n",
       "      <td>NaN</td>\n",
       "      <td>NaN</td>\n",
       "      <td>NaN</td>\n",
       "      <td>NaN</td>\n",
       "      <td>NaN</td>\n",
       "      <td>NaN</td>\n",
       "      <td>NaN</td>\n",
       "    </tr>\n",
       "    <tr>\n",
       "      <th>1</th>\n",
       "      <td>Fungal infection</td>\n",
       "      <td>skin_rash</td>\n",
       "      <td>nodal_skin_eruptions</td>\n",
       "      <td>dischromic _patches</td>\n",
       "      <td>NaN</td>\n",
       "      <td>NaN</td>\n",
       "      <td>NaN</td>\n",
       "      <td>NaN</td>\n",
       "      <td>NaN</td>\n",
       "      <td>NaN</td>\n",
       "      <td>NaN</td>\n",
       "      <td>NaN</td>\n",
       "      <td>NaN</td>\n",
       "      <td>NaN</td>\n",
       "      <td>NaN</td>\n",
       "      <td>NaN</td>\n",
       "      <td>NaN</td>\n",
       "      <td>NaN</td>\n",
       "    </tr>\n",
       "    <tr>\n",
       "      <th>2</th>\n",
       "      <td>Fungal infection</td>\n",
       "      <td>itching</td>\n",
       "      <td>nodal_skin_eruptions</td>\n",
       "      <td>dischromic _patches</td>\n",
       "      <td>NaN</td>\n",
       "      <td>NaN</td>\n",
       "      <td>NaN</td>\n",
       "      <td>NaN</td>\n",
       "      <td>NaN</td>\n",
       "      <td>NaN</td>\n",
       "      <td>NaN</td>\n",
       "      <td>NaN</td>\n",
       "      <td>NaN</td>\n",
       "      <td>NaN</td>\n",
       "      <td>NaN</td>\n",
       "      <td>NaN</td>\n",
       "      <td>NaN</td>\n",
       "      <td>NaN</td>\n",
       "    </tr>\n",
       "    <tr>\n",
       "      <th>3</th>\n",
       "      <td>Fungal infection</td>\n",
       "      <td>itching</td>\n",
       "      <td>skin_rash</td>\n",
       "      <td>dischromic _patches</td>\n",
       "      <td>NaN</td>\n",
       "      <td>NaN</td>\n",
       "      <td>NaN</td>\n",
       "      <td>NaN</td>\n",
       "      <td>NaN</td>\n",
       "      <td>NaN</td>\n",
       "      <td>NaN</td>\n",
       "      <td>NaN</td>\n",
       "      <td>NaN</td>\n",
       "      <td>NaN</td>\n",
       "      <td>NaN</td>\n",
       "      <td>NaN</td>\n",
       "      <td>NaN</td>\n",
       "      <td>NaN</td>\n",
       "    </tr>\n",
       "    <tr>\n",
       "      <th>4</th>\n",
       "      <td>Fungal infection</td>\n",
       "      <td>itching</td>\n",
       "      <td>skin_rash</td>\n",
       "      <td>nodal_skin_eruptions</td>\n",
       "      <td>NaN</td>\n",
       "      <td>NaN</td>\n",
       "      <td>NaN</td>\n",
       "      <td>NaN</td>\n",
       "      <td>NaN</td>\n",
       "      <td>NaN</td>\n",
       "      <td>NaN</td>\n",
       "      <td>NaN</td>\n",
       "      <td>NaN</td>\n",
       "      <td>NaN</td>\n",
       "      <td>NaN</td>\n",
       "      <td>NaN</td>\n",
       "      <td>NaN</td>\n",
       "      <td>NaN</td>\n",
       "    </tr>\n",
       "  </tbody>\n",
       "</table>\n",
       "</div>"
      ],
      "text/plain": [
       "            Disease   Symptom_1              Symptom_2              Symptom_3  \\\n",
       "0  Fungal infection     itching              skin_rash   nodal_skin_eruptions   \n",
       "1  Fungal infection   skin_rash   nodal_skin_eruptions    dischromic _patches   \n",
       "2  Fungal infection     itching   nodal_skin_eruptions    dischromic _patches   \n",
       "3  Fungal infection     itching              skin_rash    dischromic _patches   \n",
       "4  Fungal infection     itching              skin_rash   nodal_skin_eruptions   \n",
       "\n",
       "              Symptom_4 Symptom_5 Symptom_6 Symptom_7 Symptom_8 Symptom_9  \\\n",
       "0   dischromic _patches       NaN       NaN       NaN       NaN       NaN   \n",
       "1                   NaN       NaN       NaN       NaN       NaN       NaN   \n",
       "2                   NaN       NaN       NaN       NaN       NaN       NaN   \n",
       "3                   NaN       NaN       NaN       NaN       NaN       NaN   \n",
       "4                   NaN       NaN       NaN       NaN       NaN       NaN   \n",
       "\n",
       "  Symptom_10 Symptom_11 Symptom_12 Symptom_13 Symptom_14 Symptom_15  \\\n",
       "0        NaN        NaN        NaN        NaN        NaN        NaN   \n",
       "1        NaN        NaN        NaN        NaN        NaN        NaN   \n",
       "2        NaN        NaN        NaN        NaN        NaN        NaN   \n",
       "3        NaN        NaN        NaN        NaN        NaN        NaN   \n",
       "4        NaN        NaN        NaN        NaN        NaN        NaN   \n",
       "\n",
       "  Symptom_16 Symptom_17  \n",
       "0        NaN        NaN  \n",
       "1        NaN        NaN  \n",
       "2        NaN        NaN  \n",
       "3        NaN        NaN  \n",
       "4        NaN        NaN  "
      ]
     },
     "execution_count": 8,
     "metadata": {},
     "output_type": "execute_result"
    }
   ],
   "source": [
    "data.head()"
   ]
  },
  {
   "cell_type": "markdown",
   "metadata": {},
   "source": [
    "### Обработка"
   ]
  },
  {
   "cell_type": "code",
   "execution_count": 9,
   "metadata": {},
   "outputs": [
    {
     "data": {
      "text/plain": [
       "fluid_overload          2\n",
       "itching                 1\n",
       "spinning_movements      1\n",
       "muscle_pain             1\n",
       "irritability            1\n",
       "                       ..\n",
       "constipation            1\n",
       "back_pain               1\n",
       "pain_behind_the_eyes    1\n",
       "loss_of_appetite        1\n",
       "prognosis               1\n",
       "Name: Symptom, Length: 132, dtype: int64"
      ]
     },
     "execution_count": 9,
     "metadata": {},
     "output_type": "execute_result"
    }
   ],
   "source": [
    "df_severity.Symptom.value_counts()"
   ]
  },
  {
   "cell_type": "code",
   "execution_count": 10,
   "metadata": {},
   "outputs": [
    {
     "data": {
      "text/html": [
       "<div>\n",
       "<style scoped>\n",
       "    .dataframe tbody tr th:only-of-type {\n",
       "        vertical-align: middle;\n",
       "    }\n",
       "\n",
       "    .dataframe tbody tr th {\n",
       "        vertical-align: top;\n",
       "    }\n",
       "\n",
       "    .dataframe thead th {\n",
       "        text-align: right;\n",
       "    }\n",
       "</style>\n",
       "<table border=\"1\" class=\"dataframe\">\n",
       "  <thead>\n",
       "    <tr style=\"text-align: right;\">\n",
       "      <th></th>\n",
       "      <th>Symptom</th>\n",
       "      <th>weight</th>\n",
       "    </tr>\n",
       "  </thead>\n",
       "  <tbody>\n",
       "    <tr>\n",
       "      <th>45</th>\n",
       "      <td>fluid_overload</td>\n",
       "      <td>6</td>\n",
       "    </tr>\n",
       "    <tr>\n",
       "      <th>117</th>\n",
       "      <td>fluid_overload</td>\n",
       "      <td>4</td>\n",
       "    </tr>\n",
       "  </tbody>\n",
       "</table>\n",
       "</div>"
      ],
      "text/plain": [
       "            Symptom  weight\n",
       "45   fluid_overload       6\n",
       "117  fluid_overload       4"
      ]
     },
     "execution_count": 10,
     "metadata": {},
     "output_type": "execute_result"
    }
   ],
   "source": [
    "df_severity[df_severity.Symptom == 'fluid_overload']"
   ]
  },
  {
   "cell_type": "code",
   "execution_count": 11,
   "metadata": {},
   "outputs": [],
   "source": [
    "df_severity.drop([117], inplace=True)"
   ]
  },
  {
   "cell_type": "code",
   "execution_count": 12,
   "metadata": {},
   "outputs": [],
   "source": [
    "df_severity.reset_index(inplace=True, drop=True)"
   ]
  },
  {
   "cell_type": "code",
   "execution_count": 13,
   "metadata": {},
   "outputs": [
    {
     "data": {
      "text/html": [
       "<div>\n",
       "<style scoped>\n",
       "    .dataframe tbody tr th:only-of-type {\n",
       "        vertical-align: middle;\n",
       "    }\n",
       "\n",
       "    .dataframe tbody tr th {\n",
       "        vertical-align: top;\n",
       "    }\n",
       "\n",
       "    .dataframe thead th {\n",
       "        text-align: right;\n",
       "    }\n",
       "</style>\n",
       "<table border=\"1\" class=\"dataframe\">\n",
       "  <thead>\n",
       "    <tr style=\"text-align: right;\">\n",
       "      <th></th>\n",
       "      <th>Symptom</th>\n",
       "      <th>weight</th>\n",
       "    </tr>\n",
       "  </thead>\n",
       "  <tbody>\n",
       "    <tr>\n",
       "      <th>115</th>\n",
       "      <td>distention_of_abdomen</td>\n",
       "      <td>4</td>\n",
       "    </tr>\n",
       "    <tr>\n",
       "      <th>116</th>\n",
       "      <td>history_of_alcohol_consumption</td>\n",
       "      <td>5</td>\n",
       "    </tr>\n",
       "    <tr>\n",
       "      <th>117</th>\n",
       "      <td>blood_in_sputum</td>\n",
       "      <td>5</td>\n",
       "    </tr>\n",
       "    <tr>\n",
       "      <th>118</th>\n",
       "      <td>prominent_veins_on_calf</td>\n",
       "      <td>6</td>\n",
       "    </tr>\n",
       "    <tr>\n",
       "      <th>119</th>\n",
       "      <td>palpitations</td>\n",
       "      <td>4</td>\n",
       "    </tr>\n",
       "  </tbody>\n",
       "</table>\n",
       "</div>"
      ],
      "text/plain": [
       "                            Symptom  weight\n",
       "115           distention_of_abdomen       4\n",
       "116  history_of_alcohol_consumption       5\n",
       "117                 blood_in_sputum       5\n",
       "118         prominent_veins_on_calf       6\n",
       "119                    palpitations       4"
      ]
     },
     "execution_count": 13,
     "metadata": {},
     "output_type": "execute_result"
    }
   ],
   "source": [
    "df_severity.iloc[115:120]"
   ]
  },
  {
   "cell_type": "code",
   "execution_count": 14,
   "metadata": {},
   "outputs": [],
   "source": [
    "df_severity.loc[df_severity.Symptom == 'fluid_overload', 'weight'] = 5"
   ]
  },
  {
   "cell_type": "code",
   "execution_count": 15,
   "metadata": {},
   "outputs": [
    {
     "data": {
      "text/html": [
       "<div>\n",
       "<style scoped>\n",
       "    .dataframe tbody tr th:only-of-type {\n",
       "        vertical-align: middle;\n",
       "    }\n",
       "\n",
       "    .dataframe tbody tr th {\n",
       "        vertical-align: top;\n",
       "    }\n",
       "\n",
       "    .dataframe thead th {\n",
       "        text-align: right;\n",
       "    }\n",
       "</style>\n",
       "<table border=\"1\" class=\"dataframe\">\n",
       "  <thead>\n",
       "    <tr style=\"text-align: right;\">\n",
       "      <th></th>\n",
       "      <th>Symptom</th>\n",
       "      <th>weight</th>\n",
       "    </tr>\n",
       "  </thead>\n",
       "  <tbody>\n",
       "    <tr>\n",
       "      <th>45</th>\n",
       "      <td>fluid_overload</td>\n",
       "      <td>5</td>\n",
       "    </tr>\n",
       "  </tbody>\n",
       "</table>\n",
       "</div>"
      ],
      "text/plain": [
       "           Symptom  weight\n",
       "45  fluid_overload       5"
      ]
     },
     "execution_count": 15,
     "metadata": {},
     "output_type": "execute_result"
    }
   ],
   "source": [
    "df_severity[df_severity.Symptom == 'fluid_overload']"
   ]
  },
  {
   "cell_type": "code",
   "execution_count": 16,
   "metadata": {},
   "outputs": [],
   "source": [
    "data_copy = data.copy()"
   ]
  },
  {
   "cell_type": "code",
   "execution_count": 17,
   "metadata": {},
   "outputs": [],
   "source": [
    "data.iloc[:,1:] = [[symp.strip().replace(' ','') if type(symp) != float else symp for symp in row] for row in data_copy.iloc[:,1:].values]"
   ]
  },
  {
   "cell_type": "code",
   "execution_count": 18,
   "metadata": {},
   "outputs": [
    {
     "data": {
      "text/html": [
       "<div>\n",
       "<style scoped>\n",
       "    .dataframe tbody tr th:only-of-type {\n",
       "        vertical-align: middle;\n",
       "    }\n",
       "\n",
       "    .dataframe tbody tr th {\n",
       "        vertical-align: top;\n",
       "    }\n",
       "\n",
       "    .dataframe thead th {\n",
       "        text-align: right;\n",
       "    }\n",
       "</style>\n",
       "<table border=\"1\" class=\"dataframe\">\n",
       "  <thead>\n",
       "    <tr style=\"text-align: right;\">\n",
       "      <th></th>\n",
       "      <th>Disease</th>\n",
       "      <th>Symptom_1</th>\n",
       "      <th>Symptom_2</th>\n",
       "      <th>Symptom_3</th>\n",
       "      <th>Symptom_4</th>\n",
       "      <th>Symptom_5</th>\n",
       "      <th>Symptom_6</th>\n",
       "      <th>Symptom_7</th>\n",
       "      <th>Symptom_8</th>\n",
       "      <th>Symptom_9</th>\n",
       "      <th>Symptom_10</th>\n",
       "      <th>Symptom_11</th>\n",
       "      <th>Symptom_12</th>\n",
       "      <th>Symptom_13</th>\n",
       "      <th>Symptom_14</th>\n",
       "      <th>Symptom_15</th>\n",
       "      <th>Symptom_16</th>\n",
       "      <th>Symptom_17</th>\n",
       "    </tr>\n",
       "  </thead>\n",
       "  <tbody>\n",
       "    <tr>\n",
       "      <th>0</th>\n",
       "      <td>Fungal infection</td>\n",
       "      <td>itching</td>\n",
       "      <td>skin_rash</td>\n",
       "      <td>nodal_skin_eruptions</td>\n",
       "      <td>dischromic _patches</td>\n",
       "      <td>NaN</td>\n",
       "      <td>NaN</td>\n",
       "      <td>NaN</td>\n",
       "      <td>NaN</td>\n",
       "      <td>NaN</td>\n",
       "      <td>NaN</td>\n",
       "      <td>NaN</td>\n",
       "      <td>NaN</td>\n",
       "      <td>NaN</td>\n",
       "      <td>NaN</td>\n",
       "      <td>NaN</td>\n",
       "      <td>NaN</td>\n",
       "      <td>NaN</td>\n",
       "    </tr>\n",
       "    <tr>\n",
       "      <th>1</th>\n",
       "      <td>Fungal infection</td>\n",
       "      <td>skin_rash</td>\n",
       "      <td>nodal_skin_eruptions</td>\n",
       "      <td>dischromic _patches</td>\n",
       "      <td>NaN</td>\n",
       "      <td>NaN</td>\n",
       "      <td>NaN</td>\n",
       "      <td>NaN</td>\n",
       "      <td>NaN</td>\n",
       "      <td>NaN</td>\n",
       "      <td>NaN</td>\n",
       "      <td>NaN</td>\n",
       "      <td>NaN</td>\n",
       "      <td>NaN</td>\n",
       "      <td>NaN</td>\n",
       "      <td>NaN</td>\n",
       "      <td>NaN</td>\n",
       "      <td>NaN</td>\n",
       "    </tr>\n",
       "    <tr>\n",
       "      <th>2</th>\n",
       "      <td>Fungal infection</td>\n",
       "      <td>itching</td>\n",
       "      <td>nodal_skin_eruptions</td>\n",
       "      <td>dischromic _patches</td>\n",
       "      <td>NaN</td>\n",
       "      <td>NaN</td>\n",
       "      <td>NaN</td>\n",
       "      <td>NaN</td>\n",
       "      <td>NaN</td>\n",
       "      <td>NaN</td>\n",
       "      <td>NaN</td>\n",
       "      <td>NaN</td>\n",
       "      <td>NaN</td>\n",
       "      <td>NaN</td>\n",
       "      <td>NaN</td>\n",
       "      <td>NaN</td>\n",
       "      <td>NaN</td>\n",
       "      <td>NaN</td>\n",
       "    </tr>\n",
       "    <tr>\n",
       "      <th>3</th>\n",
       "      <td>Fungal infection</td>\n",
       "      <td>itching</td>\n",
       "      <td>skin_rash</td>\n",
       "      <td>dischromic _patches</td>\n",
       "      <td>NaN</td>\n",
       "      <td>NaN</td>\n",
       "      <td>NaN</td>\n",
       "      <td>NaN</td>\n",
       "      <td>NaN</td>\n",
       "      <td>NaN</td>\n",
       "      <td>NaN</td>\n",
       "      <td>NaN</td>\n",
       "      <td>NaN</td>\n",
       "      <td>NaN</td>\n",
       "      <td>NaN</td>\n",
       "      <td>NaN</td>\n",
       "      <td>NaN</td>\n",
       "      <td>NaN</td>\n",
       "    </tr>\n",
       "    <tr>\n",
       "      <th>4</th>\n",
       "      <td>Fungal infection</td>\n",
       "      <td>itching</td>\n",
       "      <td>skin_rash</td>\n",
       "      <td>nodal_skin_eruptions</td>\n",
       "      <td>NaN</td>\n",
       "      <td>NaN</td>\n",
       "      <td>NaN</td>\n",
       "      <td>NaN</td>\n",
       "      <td>NaN</td>\n",
       "      <td>NaN</td>\n",
       "      <td>NaN</td>\n",
       "      <td>NaN</td>\n",
       "      <td>NaN</td>\n",
       "      <td>NaN</td>\n",
       "      <td>NaN</td>\n",
       "      <td>NaN</td>\n",
       "      <td>NaN</td>\n",
       "      <td>NaN</td>\n",
       "    </tr>\n",
       "  </tbody>\n",
       "</table>\n",
       "</div>"
      ],
      "text/plain": [
       "            Disease   Symptom_1              Symptom_2              Symptom_3  \\\n",
       "0  Fungal infection     itching              skin_rash   nodal_skin_eruptions   \n",
       "1  Fungal infection   skin_rash   nodal_skin_eruptions    dischromic _patches   \n",
       "2  Fungal infection     itching   nodal_skin_eruptions    dischromic _patches   \n",
       "3  Fungal infection     itching              skin_rash    dischromic _patches   \n",
       "4  Fungal infection     itching              skin_rash   nodal_skin_eruptions   \n",
       "\n",
       "              Symptom_4 Symptom_5 Symptom_6 Symptom_7 Symptom_8 Symptom_9  \\\n",
       "0   dischromic _patches       NaN       NaN       NaN       NaN       NaN   \n",
       "1                   NaN       NaN       NaN       NaN       NaN       NaN   \n",
       "2                   NaN       NaN       NaN       NaN       NaN       NaN   \n",
       "3                   NaN       NaN       NaN       NaN       NaN       NaN   \n",
       "4                   NaN       NaN       NaN       NaN       NaN       NaN   \n",
       "\n",
       "  Symptom_10 Symptom_11 Symptom_12 Symptom_13 Symptom_14 Symptom_15  \\\n",
       "0        NaN        NaN        NaN        NaN        NaN        NaN   \n",
       "1        NaN        NaN        NaN        NaN        NaN        NaN   \n",
       "2        NaN        NaN        NaN        NaN        NaN        NaN   \n",
       "3        NaN        NaN        NaN        NaN        NaN        NaN   \n",
       "4        NaN        NaN        NaN        NaN        NaN        NaN   \n",
       "\n",
       "  Symptom_16 Symptom_17  \n",
       "0        NaN        NaN  \n",
       "1        NaN        NaN  \n",
       "2        NaN        NaN  \n",
       "3        NaN        NaN  \n",
       "4        NaN        NaN  "
      ]
     },
     "execution_count": 18,
     "metadata": {},
     "output_type": "execute_result"
    }
   ],
   "source": [
    "data_copy.head()"
   ]
  },
  {
   "cell_type": "code",
   "execution_count": 19,
   "metadata": {},
   "outputs": [
    {
     "data": {
      "text/html": [
       "<div>\n",
       "<style scoped>\n",
       "    .dataframe tbody tr th:only-of-type {\n",
       "        vertical-align: middle;\n",
       "    }\n",
       "\n",
       "    .dataframe tbody tr th {\n",
       "        vertical-align: top;\n",
       "    }\n",
       "\n",
       "    .dataframe thead th {\n",
       "        text-align: right;\n",
       "    }\n",
       "</style>\n",
       "<table border=\"1\" class=\"dataframe\">\n",
       "  <thead>\n",
       "    <tr style=\"text-align: right;\">\n",
       "      <th></th>\n",
       "      <th>Disease</th>\n",
       "      <th>Symptom_1</th>\n",
       "      <th>Symptom_2</th>\n",
       "      <th>Symptom_3</th>\n",
       "      <th>Symptom_4</th>\n",
       "      <th>Symptom_5</th>\n",
       "      <th>Symptom_6</th>\n",
       "      <th>Symptom_7</th>\n",
       "      <th>Symptom_8</th>\n",
       "      <th>Symptom_9</th>\n",
       "      <th>Symptom_10</th>\n",
       "      <th>Symptom_11</th>\n",
       "      <th>Symptom_12</th>\n",
       "      <th>Symptom_13</th>\n",
       "      <th>Symptom_14</th>\n",
       "      <th>Symptom_15</th>\n",
       "      <th>Symptom_16</th>\n",
       "      <th>Symptom_17</th>\n",
       "    </tr>\n",
       "  </thead>\n",
       "  <tbody>\n",
       "    <tr>\n",
       "      <th>0</th>\n",
       "      <td>Fungal infection</td>\n",
       "      <td>itching</td>\n",
       "      <td>skin_rash</td>\n",
       "      <td>nodal_skin_eruptions</td>\n",
       "      <td>dischromic_patches</td>\n",
       "      <td>NaN</td>\n",
       "      <td>NaN</td>\n",
       "      <td>NaN</td>\n",
       "      <td>NaN</td>\n",
       "      <td>NaN</td>\n",
       "      <td>NaN</td>\n",
       "      <td>NaN</td>\n",
       "      <td>NaN</td>\n",
       "      <td>NaN</td>\n",
       "      <td>NaN</td>\n",
       "      <td>NaN</td>\n",
       "      <td>NaN</td>\n",
       "      <td>NaN</td>\n",
       "    </tr>\n",
       "    <tr>\n",
       "      <th>1</th>\n",
       "      <td>Fungal infection</td>\n",
       "      <td>skin_rash</td>\n",
       "      <td>nodal_skin_eruptions</td>\n",
       "      <td>dischromic_patches</td>\n",
       "      <td>NaN</td>\n",
       "      <td>NaN</td>\n",
       "      <td>NaN</td>\n",
       "      <td>NaN</td>\n",
       "      <td>NaN</td>\n",
       "      <td>NaN</td>\n",
       "      <td>NaN</td>\n",
       "      <td>NaN</td>\n",
       "      <td>NaN</td>\n",
       "      <td>NaN</td>\n",
       "      <td>NaN</td>\n",
       "      <td>NaN</td>\n",
       "      <td>NaN</td>\n",
       "      <td>NaN</td>\n",
       "    </tr>\n",
       "    <tr>\n",
       "      <th>2</th>\n",
       "      <td>Fungal infection</td>\n",
       "      <td>itching</td>\n",
       "      <td>nodal_skin_eruptions</td>\n",
       "      <td>dischromic_patches</td>\n",
       "      <td>NaN</td>\n",
       "      <td>NaN</td>\n",
       "      <td>NaN</td>\n",
       "      <td>NaN</td>\n",
       "      <td>NaN</td>\n",
       "      <td>NaN</td>\n",
       "      <td>NaN</td>\n",
       "      <td>NaN</td>\n",
       "      <td>NaN</td>\n",
       "      <td>NaN</td>\n",
       "      <td>NaN</td>\n",
       "      <td>NaN</td>\n",
       "      <td>NaN</td>\n",
       "      <td>NaN</td>\n",
       "    </tr>\n",
       "    <tr>\n",
       "      <th>3</th>\n",
       "      <td>Fungal infection</td>\n",
       "      <td>itching</td>\n",
       "      <td>skin_rash</td>\n",
       "      <td>dischromic_patches</td>\n",
       "      <td>NaN</td>\n",
       "      <td>NaN</td>\n",
       "      <td>NaN</td>\n",
       "      <td>NaN</td>\n",
       "      <td>NaN</td>\n",
       "      <td>NaN</td>\n",
       "      <td>NaN</td>\n",
       "      <td>NaN</td>\n",
       "      <td>NaN</td>\n",
       "      <td>NaN</td>\n",
       "      <td>NaN</td>\n",
       "      <td>NaN</td>\n",
       "      <td>NaN</td>\n",
       "      <td>NaN</td>\n",
       "    </tr>\n",
       "    <tr>\n",
       "      <th>4</th>\n",
       "      <td>Fungal infection</td>\n",
       "      <td>itching</td>\n",
       "      <td>skin_rash</td>\n",
       "      <td>nodal_skin_eruptions</td>\n",
       "      <td>NaN</td>\n",
       "      <td>NaN</td>\n",
       "      <td>NaN</td>\n",
       "      <td>NaN</td>\n",
       "      <td>NaN</td>\n",
       "      <td>NaN</td>\n",
       "      <td>NaN</td>\n",
       "      <td>NaN</td>\n",
       "      <td>NaN</td>\n",
       "      <td>NaN</td>\n",
       "      <td>NaN</td>\n",
       "      <td>NaN</td>\n",
       "      <td>NaN</td>\n",
       "      <td>NaN</td>\n",
       "    </tr>\n",
       "  </tbody>\n",
       "</table>\n",
       "</div>"
      ],
      "text/plain": [
       "            Disease  Symptom_1             Symptom_2             Symptom_3  \\\n",
       "0  Fungal infection    itching             skin_rash  nodal_skin_eruptions   \n",
       "1  Fungal infection  skin_rash  nodal_skin_eruptions    dischromic_patches   \n",
       "2  Fungal infection    itching  nodal_skin_eruptions    dischromic_patches   \n",
       "3  Fungal infection    itching             skin_rash    dischromic_patches   \n",
       "4  Fungal infection    itching             skin_rash  nodal_skin_eruptions   \n",
       "\n",
       "            Symptom_4 Symptom_5 Symptom_6 Symptom_7 Symptom_8 Symptom_9  \\\n",
       "0  dischromic_patches       NaN       NaN       NaN       NaN       NaN   \n",
       "1                 NaN       NaN       NaN       NaN       NaN       NaN   \n",
       "2                 NaN       NaN       NaN       NaN       NaN       NaN   \n",
       "3                 NaN       NaN       NaN       NaN       NaN       NaN   \n",
       "4                 NaN       NaN       NaN       NaN       NaN       NaN   \n",
       "\n",
       "  Symptom_10 Symptom_11 Symptom_12 Symptom_13 Symptom_14 Symptom_15  \\\n",
       "0        NaN        NaN        NaN        NaN        NaN        NaN   \n",
       "1        NaN        NaN        NaN        NaN        NaN        NaN   \n",
       "2        NaN        NaN        NaN        NaN        NaN        NaN   \n",
       "3        NaN        NaN        NaN        NaN        NaN        NaN   \n",
       "4        NaN        NaN        NaN        NaN        NaN        NaN   \n",
       "\n",
       "  Symptom_16 Symptom_17  \n",
       "0        NaN        NaN  \n",
       "1        NaN        NaN  \n",
       "2        NaN        NaN  \n",
       "3        NaN        NaN  \n",
       "4        NaN        NaN  "
      ]
     },
     "execution_count": 19,
     "metadata": {},
     "output_type": "execute_result"
    }
   ],
   "source": [
    "data.head()"
   ]
  },
  {
   "cell_type": "markdown",
   "metadata": {},
   "source": [
    "### Замена симптомов весами"
   ]
  },
  {
   "cell_type": "code",
   "execution_count": 20,
   "metadata": {},
   "outputs": [
    {
     "data": {
      "text/html": [
       "<div>\n",
       "<style scoped>\n",
       "    .dataframe tbody tr th:only-of-type {\n",
       "        vertical-align: middle;\n",
       "    }\n",
       "\n",
       "    .dataframe tbody tr th {\n",
       "        vertical-align: top;\n",
       "    }\n",
       "\n",
       "    .dataframe thead th {\n",
       "        text-align: right;\n",
       "    }\n",
       "</style>\n",
       "<table border=\"1\" class=\"dataframe\">\n",
       "  <thead>\n",
       "    <tr style=\"text-align: right;\">\n",
       "      <th></th>\n",
       "      <th>Symptom</th>\n",
       "      <th>weight</th>\n",
       "    </tr>\n",
       "  </thead>\n",
       "  <tbody>\n",
       "    <tr>\n",
       "      <th>0</th>\n",
       "      <td>itching</td>\n",
       "      <td>1</td>\n",
       "    </tr>\n",
       "    <tr>\n",
       "      <th>1</th>\n",
       "      <td>skin_rash</td>\n",
       "      <td>3</td>\n",
       "    </tr>\n",
       "    <tr>\n",
       "      <th>2</th>\n",
       "      <td>nodal_skin_eruptions</td>\n",
       "      <td>4</td>\n",
       "    </tr>\n",
       "    <tr>\n",
       "      <th>3</th>\n",
       "      <td>continuous_sneezing</td>\n",
       "      <td>4</td>\n",
       "    </tr>\n",
       "    <tr>\n",
       "      <th>4</th>\n",
       "      <td>shivering</td>\n",
       "      <td>5</td>\n",
       "    </tr>\n",
       "  </tbody>\n",
       "</table>\n",
       "</div>"
      ],
      "text/plain": [
       "                Symptom  weight\n",
       "0               itching       1\n",
       "1             skin_rash       3\n",
       "2  nodal_skin_eruptions       4\n",
       "3   continuous_sneezing       4\n",
       "4             shivering       5"
      ]
     },
     "execution_count": 20,
     "metadata": {},
     "output_type": "execute_result"
    }
   ],
   "source": [
    "df_severity.head()"
   ]
  },
  {
   "cell_type": "code",
   "execution_count": 21,
   "metadata": {},
   "outputs": [],
   "source": [
    "di_severity_weights = {row[0]:row[1] for row in df_severity.values}"
   ]
  },
  {
   "cell_type": "code",
   "execution_count": 22,
   "metadata": {},
   "outputs": [],
   "source": [
    "del di_severity_weights['prognosis']"
   ]
  },
  {
   "cell_type": "code",
   "execution_count": 23,
   "metadata": {},
   "outputs": [],
   "source": [
    "list_di_severity_weights = list(di_severity_weights.keys())\n",
    "list_di_severity_weights.sort()"
   ]
  },
  {
   "cell_type": "code",
   "execution_count": 24,
   "metadata": {},
   "outputs": [],
   "source": [
    "all_symps_in_data = []\n",
    "for symps in data.iloc[:,1:].apply(lambda col: col.unique()):\n",
    "    for symp in symps:\n",
    "        if type(symp) != float:\n",
    "            all_symps_in_data.append(symp)"
   ]
  },
  {
   "cell_type": "code",
   "execution_count": 25,
   "metadata": {},
   "outputs": [],
   "source": [
    "list_data_symps = list(set(all_symps_in_data))\n",
    "list_data_symps.sort()"
   ]
  },
  {
   "cell_type": "code",
   "execution_count": 26,
   "metadata": {},
   "outputs": [
    {
     "data": {
      "text/html": [
       "<div>\n",
       "<style scoped>\n",
       "    .dataframe tbody tr th:only-of-type {\n",
       "        vertical-align: middle;\n",
       "    }\n",
       "\n",
       "    .dataframe tbody tr th {\n",
       "        vertical-align: top;\n",
       "    }\n",
       "\n",
       "    .dataframe thead th {\n",
       "        text-align: right;\n",
       "    }\n",
       "</style>\n",
       "<table border=\"1\" class=\"dataframe\">\n",
       "  <thead>\n",
       "    <tr style=\"text-align: right;\">\n",
       "      <th></th>\n",
       "      <th>Symptom</th>\n",
       "      <th>weight</th>\n",
       "    </tr>\n",
       "  </thead>\n",
       "  <tbody>\n",
       "    <tr>\n",
       "      <th>131</th>\n",
       "      <td>prognosis</td>\n",
       "      <td>5</td>\n",
       "    </tr>\n",
       "  </tbody>\n",
       "</table>\n",
       "</div>"
      ],
      "text/plain": [
       "       Symptom  weight\n",
       "131  prognosis       5"
      ]
     },
     "execution_count": 26,
     "metadata": {},
     "output_type": "execute_result"
    }
   ],
   "source": [
    "df_severity[df_severity.eq('prognosis').any(1)]"
   ]
  },
  {
   "cell_type": "code",
   "execution_count": 27,
   "metadata": {},
   "outputs": [],
   "source": [
    "for i,j in zip(list_di_severity_weights, list_data_symps):\n",
    "    if i != j:\n",
    "        i, j"
   ]
  },
  {
   "cell_type": "code",
   "execution_count": 28,
   "metadata": {},
   "outputs": [],
   "source": [
    "di_severity_weights = {row[0]:row[1] for row in df_severity.values}"
   ]
  },
  {
   "cell_type": "code",
   "execution_count": 29,
   "metadata": {},
   "outputs": [],
   "source": [
    "data.replace(di_severity_weights, inplace=True)"
   ]
  },
  {
   "cell_type": "code",
   "execution_count": 30,
   "metadata": {},
   "outputs": [],
   "source": [
    "data.fillna(0, inplace=True)"
   ]
  },
  {
   "cell_type": "code",
   "execution_count": 31,
   "metadata": {},
   "outputs": [
    {
     "data": {
      "text/html": [
       "<div>\n",
       "<style scoped>\n",
       "    .dataframe tbody tr th:only-of-type {\n",
       "        vertical-align: middle;\n",
       "    }\n",
       "\n",
       "    .dataframe tbody tr th {\n",
       "        vertical-align: top;\n",
       "    }\n",
       "\n",
       "    .dataframe thead th {\n",
       "        text-align: right;\n",
       "    }\n",
       "</style>\n",
       "<table border=\"1\" class=\"dataframe\">\n",
       "  <thead>\n",
       "    <tr style=\"text-align: right;\">\n",
       "      <th></th>\n",
       "      <th>Disease</th>\n",
       "      <th>Symptom_1</th>\n",
       "      <th>Symptom_2</th>\n",
       "      <th>Symptom_3</th>\n",
       "      <th>Symptom_4</th>\n",
       "      <th>Symptom_5</th>\n",
       "      <th>Symptom_6</th>\n",
       "      <th>Symptom_7</th>\n",
       "      <th>Symptom_8</th>\n",
       "      <th>Symptom_9</th>\n",
       "      <th>Symptom_10</th>\n",
       "      <th>Symptom_11</th>\n",
       "      <th>Symptom_12</th>\n",
       "      <th>Symptom_13</th>\n",
       "      <th>Symptom_14</th>\n",
       "      <th>Symptom_15</th>\n",
       "      <th>Symptom_16</th>\n",
       "      <th>Symptom_17</th>\n",
       "    </tr>\n",
       "  </thead>\n",
       "  <tbody>\n",
       "    <tr>\n",
       "      <th>0</th>\n",
       "      <td>Fungal infection</td>\n",
       "      <td>1</td>\n",
       "      <td>3</td>\n",
       "      <td>4</td>\n",
       "      <td>6.0</td>\n",
       "      <td>0.0</td>\n",
       "      <td>0.0</td>\n",
       "      <td>0.0</td>\n",
       "      <td>0.0</td>\n",
       "      <td>0.0</td>\n",
       "      <td>0.0</td>\n",
       "      <td>0.0</td>\n",
       "      <td>0.0</td>\n",
       "      <td>0.0</td>\n",
       "      <td>0.0</td>\n",
       "      <td>0.0</td>\n",
       "      <td>0.0</td>\n",
       "      <td>0.0</td>\n",
       "    </tr>\n",
       "    <tr>\n",
       "      <th>1</th>\n",
       "      <td>Fungal infection</td>\n",
       "      <td>3</td>\n",
       "      <td>4</td>\n",
       "      <td>6</td>\n",
       "      <td>0.0</td>\n",
       "      <td>0.0</td>\n",
       "      <td>0.0</td>\n",
       "      <td>0.0</td>\n",
       "      <td>0.0</td>\n",
       "      <td>0.0</td>\n",
       "      <td>0.0</td>\n",
       "      <td>0.0</td>\n",
       "      <td>0.0</td>\n",
       "      <td>0.0</td>\n",
       "      <td>0.0</td>\n",
       "      <td>0.0</td>\n",
       "      <td>0.0</td>\n",
       "      <td>0.0</td>\n",
       "    </tr>\n",
       "    <tr>\n",
       "      <th>2</th>\n",
       "      <td>Fungal infection</td>\n",
       "      <td>1</td>\n",
       "      <td>4</td>\n",
       "      <td>6</td>\n",
       "      <td>0.0</td>\n",
       "      <td>0.0</td>\n",
       "      <td>0.0</td>\n",
       "      <td>0.0</td>\n",
       "      <td>0.0</td>\n",
       "      <td>0.0</td>\n",
       "      <td>0.0</td>\n",
       "      <td>0.0</td>\n",
       "      <td>0.0</td>\n",
       "      <td>0.0</td>\n",
       "      <td>0.0</td>\n",
       "      <td>0.0</td>\n",
       "      <td>0.0</td>\n",
       "      <td>0.0</td>\n",
       "    </tr>\n",
       "    <tr>\n",
       "      <th>3</th>\n",
       "      <td>Fungal infection</td>\n",
       "      <td>1</td>\n",
       "      <td>3</td>\n",
       "      <td>6</td>\n",
       "      <td>0.0</td>\n",
       "      <td>0.0</td>\n",
       "      <td>0.0</td>\n",
       "      <td>0.0</td>\n",
       "      <td>0.0</td>\n",
       "      <td>0.0</td>\n",
       "      <td>0.0</td>\n",
       "      <td>0.0</td>\n",
       "      <td>0.0</td>\n",
       "      <td>0.0</td>\n",
       "      <td>0.0</td>\n",
       "      <td>0.0</td>\n",
       "      <td>0.0</td>\n",
       "      <td>0.0</td>\n",
       "    </tr>\n",
       "    <tr>\n",
       "      <th>4</th>\n",
       "      <td>Fungal infection</td>\n",
       "      <td>1</td>\n",
       "      <td>3</td>\n",
       "      <td>4</td>\n",
       "      <td>0.0</td>\n",
       "      <td>0.0</td>\n",
       "      <td>0.0</td>\n",
       "      <td>0.0</td>\n",
       "      <td>0.0</td>\n",
       "      <td>0.0</td>\n",
       "      <td>0.0</td>\n",
       "      <td>0.0</td>\n",
       "      <td>0.0</td>\n",
       "      <td>0.0</td>\n",
       "      <td>0.0</td>\n",
       "      <td>0.0</td>\n",
       "      <td>0.0</td>\n",
       "      <td>0.0</td>\n",
       "    </tr>\n",
       "  </tbody>\n",
       "</table>\n",
       "</div>"
      ],
      "text/plain": [
       "            Disease  Symptom_1  Symptom_2  Symptom_3  Symptom_4  Symptom_5  \\\n",
       "0  Fungal infection          1          3          4        6.0        0.0   \n",
       "1  Fungal infection          3          4          6        0.0        0.0   \n",
       "2  Fungal infection          1          4          6        0.0        0.0   \n",
       "3  Fungal infection          1          3          6        0.0        0.0   \n",
       "4  Fungal infection          1          3          4        0.0        0.0   \n",
       "\n",
       "   Symptom_6  Symptom_7  Symptom_8  Symptom_9  Symptom_10  Symptom_11  \\\n",
       "0        0.0        0.0        0.0        0.0         0.0         0.0   \n",
       "1        0.0        0.0        0.0        0.0         0.0         0.0   \n",
       "2        0.0        0.0        0.0        0.0         0.0         0.0   \n",
       "3        0.0        0.0        0.0        0.0         0.0         0.0   \n",
       "4        0.0        0.0        0.0        0.0         0.0         0.0   \n",
       "\n",
       "   Symptom_12  Symptom_13  Symptom_14  Symptom_15  Symptom_16  Symptom_17  \n",
       "0         0.0         0.0         0.0         0.0         0.0         0.0  \n",
       "1         0.0         0.0         0.0         0.0         0.0         0.0  \n",
       "2         0.0         0.0         0.0         0.0         0.0         0.0  \n",
       "3         0.0         0.0         0.0         0.0         0.0         0.0  \n",
       "4         0.0         0.0         0.0         0.0         0.0         0.0  "
      ]
     },
     "execution_count": 31,
     "metadata": {},
     "output_type": "execute_result"
    }
   ],
   "source": [
    "data.head()"
   ]
  },
  {
   "cell_type": "code",
   "execution_count": 32,
   "metadata": {},
   "outputs": [],
   "source": [
    "data.iloc[:,1:] = data.iloc[:,1:].astype('int')"
   ]
  },
  {
   "cell_type": "markdown",
   "metadata": {},
   "source": [
    "## Модель"
   ]
  },
  {
   "cell_type": "code",
   "execution_count": 33,
   "metadata": {},
   "outputs": [],
   "source": [
    "X = data.drop(columns=['Disease'])\n",
    "y = data['Disease']"
   ]
  },
  {
   "cell_type": "code",
   "execution_count": 34,
   "metadata": {},
   "outputs": [],
   "source": [
    "X_train, X_test, y_train, y_test = train_test_split(X.values, y.values, test_size=0.2, \n",
    "                                                    stratify=y.values, shuffle=True, random_state=123)"
   ]
  },
  {
   "cell_type": "code",
   "execution_count": 35,
   "metadata": {},
   "outputs": [
    {
     "data": {
      "text/plain": [
       "RandomForestClassifier()"
      ]
     },
     "execution_count": 35,
     "metadata": {},
     "output_type": "execute_result"
    }
   ],
   "source": [
    "random_forest = RandomForestClassifier()\n",
    "random_forest.fit(X_train, y_train)"
   ]
  },
  {
   "cell_type": "code",
   "execution_count": 36,
   "metadata": {},
   "outputs": [
    {
     "name": "stdout",
     "output_type": "stream",
     "text": [
      "F1-score = 99.6%\n",
      "Accuracy = 99.59%\n"
     ]
    }
   ],
   "source": [
    "y_pred = random_forest.predict(X_test)\n",
    "print(f'F1-score = {round(f1_score(y_test, y_pred, average=\"macro\")*100,2)}%\\nAccuracy = {round(accuracy_score(y_test, y_pred)*100,2)}%')"
   ]
  },
  {
   "cell_type": "markdown",
   "metadata": {},
   "source": [
    "## RUS"
   ]
  },
  {
   "cell_type": "markdown",
   "metadata": {},
   "source": [
    "### Симптомы"
   ]
  },
  {
   "cell_type": "code",
   "execution_count": 37,
   "metadata": {},
   "outputs": [],
   "source": [
    "ru_symptoms = ['боль в животе','ненормальная_менструация','кислотность','острая_печеночная_недостаточность','измененный_сенсориум',\n",
    "               'беспокойство','боль в спине','боль в брюшной полости','черные точки','дискомфорт_мочевого пузыря','волдырь',\n",
    "               'кровь_в_мокроте','кровавый_стул','размытое_и_искаженное_зрение','одышка','ломкие_ногти','синяки','жжение при мочеиспускании',\n",
    "               'боль в груди','озноб','холодные_руки_и_ноги','кома','заложенность носа','запор','Постоянное ощущение мочи',\n",
    "               'Непрерывное чихание','кашель','судороги','темная_моча','обезвоживание','депрессия','диарея','Дисхромные пятна',\n",
    "               'растяжение_живота','головокружение','сохнущие_и_покалывающие_губы','увеличенная_щитовидная железа','чрезмерный_голод',\n",
    "               'внебрачные связи','родословная','Быстрый сердечный ритм','усталость','перегрузка_жидкостью','неприятный_запах_мочи',\n",
    "               'головная боль','высокая температура','боль в тазобедренном суставе','давнее_потребление_алкоголя','повышенный_аппетит',\n",
    "               'несварение','воспалительные_ногти','внутренний_зуд','нерегулярный_уровень_сахара','раздражительность','раздражение_в_анусе',\n",
    "               'зуд','суставная_боль','боль в колене','нехватка концентрации','летаргия','потеря аппетита','потеря_баланса','потеря_запаха',\n",
    "               'недомогание','слабая лихорадка','перепады настроения','скованность движений','слизистая_мокрота','боли в мышцах',\n",
    "               'атрофия мышц','мышечная слабость','тошнота','боль в шее','Узловые высыпания на коже','ожирение','боль_за_глазами',\n",
    "               'боль во время дефекации','боль_в_анальной_области','болезненная_ходьба','учащенное сердцебиение','проход_газов',\n",
    "               'пятна в горле','мокрота','полиурия','выступающие вены на икрах','одутловатое_лицо_и_глаза','гнойные прыщи',\n",
    "               'получение_переливания_крови','получение_нестерильных_инъекций','красная язва вокруг носа','красные_пятна_поверх_тела',\n",
    "               'покраснение_глаз','беспокойство','насморк','ржавая_мокрота','суетливость','дрожь','Аргироз','давление пазухи','шелушение кожи',\n",
    "               'кожная_сыпь','невнятная речь','небольшие вмятины на ногтях','вращательные движения','обнаружение_мочеиспускания','скованность мышц шеи',\n",
    "               'желудочное кровотечение','боль в желудке','запавшие глаза','потливость','опухшие_лимфатические_узлы','отек_суставов',\n",
    "               'опухание_желудка','опухшие_кровяные_сосуды','опухшие_конечности','опухшие_ноги','раздражение горла','ядовитый взгляд_(тиф)',\n",
    "               'язвы_на_языке','неустойчивость','визуальные_нарушения','рвота','слезотечение','слабость_в_конечностях','слабость_одной_стороны_тела',\n",
    "               'увеличение веса','потеря веса','желтая корочка','желтая_моча','пожелтение_глаз','желтоватая_кожа']"
   ]
  },
  {
   "cell_type": "code",
   "execution_count": 38,
   "metadata": {},
   "outputs": [],
   "source": [
    "ru_symptoms = [s.capitalize().replace('_',' ').strip() for s in ru_symptoms]"
   ]
  },
  {
   "cell_type": "code",
   "execution_count": 39,
   "metadata": {},
   "outputs": [],
   "source": [
    "symp_eng_to_ru = {x[0]:x[1] for x in zip(list_data_symps,ru_symptoms)}\n",
    "symp_ru_to_eng = {x[0]:x[1] for x in zip(ru_symptoms,list_data_symps)}"
   ]
  },
  {
   "cell_type": "markdown",
   "metadata": {},
   "source": [
    "### Болезни"
   ]
  },
  {
   "cell_type": "code",
   "execution_count": 40,
   "metadata": {},
   "outputs": [],
   "source": [
    "ru_diseases = ['Лекарственная реакция', 'Малярия', 'Аллергия', 'Гипотиреоз',\n",
    "               'Псориаз', 'ГЭРБ', 'Хронический холестаз', 'Гепатит А',\n",
    "               'Остеоартроз', '(головокружение) Пароймсальное позиционное головокружение',\n",
    "               'Гипогликемия', 'Угри', 'Диабет', 'Импетиго', 'Гипертония',\n",
    "               'Язвенная болезнь', 'Диморфный геморрой',\n",
    "               'Простуда', 'Ветряная оспа', 'Шейный спондилез',\n",
    "               'Гипертиреоз', 'Инфекция мочевыводящих путей', 'Варикозное расширение вен',\n",
    "               'СПИД', 'Паралич (кровоизлияние в мозг)', 'Брюшной тиф', 'Гепатит В',\n",
    "               'Грибковая инфекция', 'Гепатит С', 'Мигрень', 'Бронхиальная астма',\n",
    "               'Алкогольный гепатит', 'Желтуха', 'Гепатит Е', 'Лихорадка денге',\n",
    "               'Гепатит D', 'Сердечный приступ', 'Пневмония', 'Артрит',\n",
    "               'Гастроэнтерит', 'Туберкулез']"
   ]
  },
  {
   "cell_type": "code",
   "execution_count": 41,
   "metadata": {},
   "outputs": [],
   "source": [
    "disease_eng_to_ru = {x[0]:x[1] for x in zip(list(df_description.Disease),ru_diseases)}\n",
    "disease_ru_to_eng = {x[0]:x[1] for x in zip(ru_diseases,list(df_description.Disease))}"
   ]
  },
  {
   "cell_type": "markdown",
   "metadata": {},
   "source": [
    "### Описания"
   ]
  },
  {
   "cell_type": "code",
   "execution_count": 42,
   "metadata": {},
   "outputs": [],
   "source": [
    "ru_descr = ['Нежелательная лекарственная реакция (ПНР) — это травма, вызванная приемом лекарств. Побочные реакции могут возникать после однократного или длительного приема препарата или в результате комбинации двух или более препаратов.',\n",
    "  'Инфекционное заболевание, вызываемое простейшими паразитами из семейства Plasmodium, которое может передаваться при укусе комара Anopheles, зараженной игле или переливании крови. Falciparum малярия является наиболее смертоносным типом.',\n",
    "  'Аллергия — это реакция иммунной системы на чужеродное вещество, которое обычно не вредно для вашего организма. Это могут быть определенные продукты, пыльца или шерсть домашних животных. Задача вашей иммунной системы — поддерживать ваше здоровье, борясь с вредными патогенами',\n",
    "  'Гипотиреоз, также называемый недостаточной активностью щитовидной железы или низким уровнем щитовидной железы, представляет собой нарушение эндокринной системы, при котором щитовидная железа не вырабатывает достаточное количество гормона щитовидной железы.',\n",
    "  'Псориаз — это распространенное кожное заболевание, при котором образуются толстые, красные, неровные пятна, покрытые серебристыми чешуйками. Они могут появиться где угодно, но чаще всего появляются на коже головы, локтях, коленях и нижней части спины. Псориаз не передается от человека к человеку. Иногда это случается у членов одной семьи.',\n",
    "  'Гастроэзофагеальная рефлюксная болезнь, или ГЭРБ, — это расстройство пищеварения, которое поражает нижний пищеводный сфинктер (НПС), мышечное кольцо между пищеводом и желудком. Многие люди, в том числе беременные женщины, страдают от изжоги или кислотного расстройства желудка, вызванного ГЭРБ.',\n",
    "  'Хронические холестатические заболевания, возникающие в младенчестве, детстве или во взрослом возрасте, характеризуются нарушением транспорта желчных кислот из печени в кишечник, что в большинстве случаев обусловлено первичным повреждением билиарного эпителия',\n",
    "  'Гепатит А — это высококонтагиозная инфекция печени, вызываемая вирусом гепатита А. Этот вирус является одним из нескольких типов вирусов гепатита, которые вызывают воспаление и влияют на способность вашей печени функционировать',\n",
    "  'Остеоартрит — наиболее распространенная форма артрита, поражающая миллионы людей во всем мире. Это происходит, когда защитный хрящ, покрывающий концы костей, со временем изнашивается.',\n",
    "  'Доброкачественное пароксизмальное позиционное головокружение (ДППГ) является одной из наиболее частых причин головокружения — внезапное ощущение, что вы вращаетесь или что внутри вашей головы вращается. Доброкачественное пароксизмальное позиционное головокружение вызывает короткие эпизоды головокружения от легкого до сильного',\n",
    "  'Гипогликемия — это состояние, при котором уровень сахара (глюкозы) в крови ниже нормы. Глюкоза является основным источником энергии вашего организма. Гипогликемия часто связана с лечением диабета. уровень сахара в крови у людей, у которых нет диабета',\n",
    "  'Вульгарные угри — это образование комедонов, папул, пустул, узелков и/или кист в результате закупорки и воспаления сально-волосяных единиц (волосяных фолликулов и сопровождающих их сальных желез). Акне развивается на лице и верхней части туловища. Чаще всего поражает подростков.',\n",
    "  'Диабет — это заболевание, которое возникает, когда уровень глюкозы в крови, также называемый сахаром в крови, слишком высок. Глюкоза в крови является вашим основным источником энергии и поступает из пищи, которую вы едите. Инсулин, гормон, вырабатываемый поджелудочной железой, помогает глюкозе из пищи попадать в ваши клетки и использоваться для получения энергии.',\n",
    "  'Импетиго (im-puh-TIE-go) — распространенная и очень заразная кожная инфекция, поражающая в основном младенцев и детей. Импетиго обычно проявляется в виде красных язв на лице, особенно вокруг носа и рта ребенка, а также на руках и ногах. Язвы лопаются и покрываются корками медового цвета',\n",
    "  'Гипертония (HTN или HT), также известная как высокое кровяное давление (HBP), представляет собой длительное заболевание, при котором кровяное давление в артериях постоянно повышено. Высокое кровяное давление обычно не вызывает симптомов.',\n",
    "  'Язвенная болезнь (ЯБ) — это повреждение внутренней оболочки желудка, начального отдела тонкой кишки или иногда нижнего отдела пищевода. Язва в желудке называется язвой желудка, а язва в первом отделе кишечника - язвой двенадцатиперстной кишки.',\n",
    "  'Геморрой, также называемый геморроем, представляет собой сосудистые образования в анальном канале. В их... Другие названия, Геморрой, сваи, геморроидальная болезнь.',\n",
    "  'Простуда — это вирусная инфекция носа и горла (верхних дыхательных путей). Обычно она безвредна, хотя может и не ощущаться так. Многие типы вирусов могут вызывать простуду',\n",
    "  'Ветряная оспа — высококонтагиозное заболевание, вызываемое вирусом ветряной оспы (VZV). Это может вызвать зудящую сыпь, похожую на волдыри. Сыпь сначала появляется на груди, спине и лице, а затем распространяется по всему телу, вызывая от 250 до 500 зудящих волдырей.',\n",
    "  'Шейный спондилез — это общий термин для обозначения возрастного износа позвоночных дисков шеи. По мере обезвоживания и сморщивания дисков развиваются признаки остеоартрита, в том числе костные выступы по краям костей (костные шпоры).',\n",
    "  'Гипертиреоз (сверхактивная щитовидная железа) возникает, когда щитовидная железа вырабатывает слишком много гормона тироксин. Гипертиреоз может ускорить обмен веществ в организме, вызывая непреднамеренную потерю веса и учащенное или нерегулярное сердцебиение.',\n",
    "  'Инфекция мочевыводящих путей: инфекция почек, мочеточников, мочевого пузыря или уретры. Сокращенно ИМП. Не у всех с ИМП есть симптомы, но общие симптомы включают частые позывы к мочеиспусканию и боль или жжение при мочеиспускании.',\n",
    "  'Вена, которая увеличилась и перекрутилась, часто выглядит как выпуклый голубой кровеносный сосуд, который хорошо виден через кожу. Варикозное расширение вен чаще всего встречается у пожилых людей, особенно у женщин, особенно на ногах.',\n",
    "  'Синдром приобретенного иммунодефицита (СПИД) — это хроническое, потенциально опасное для жизни состояние, вызванное вирусом иммунодефицита человека (ВИЧ). Повреждая вашу иммунную систему, ВИЧ препятствует способности вашего организма бороться с инфекциями и болезнями',\n",
    "  'Внутримозговое кровоизлияние (ВМК) — это когда кровь внезапно прорывается в мозговую ткань, вызывая повреждение мозга. Симптомы обычно появляются внезапно во время ВЧК. Они включают головную боль, слабость, спутанность сознания и паралич, особенно на одной стороне тела.',\n",
    "  'Острое заболевание, характеризующееся лихорадкой, вызванной инфекцией бактерией Salmonella typhi. Брюшной тиф начинается незаметно, с лихорадки, головной боли, запоров, недомогания, озноба и мышечных болей. Диарея бывает редко, а рвота обычно нетяжелая.',\n",
    "  'Гепатит В — это инфекция печени. Он может вызвать рубцевание органа, печеночную недостаточность и рак. Если его не лечить, он может привести к летальному исходу. Он распространяется при контакте людей с кровью, открытыми язвами или биологические жидкости человека, у которого есть вирус гепатита В.',\n",
    "  'У людей грибковые инфекции возникают, когда вторгшийся грибок захватывает часть тела, и иммунная система не может с ним справиться. Грибы могут жить в воздухе, почве, воде и растениях. Есть также некоторые грибы, которые естественным образом живут в организме человека. Как и многие микробы, существуют полезные и вредные грибы.',\n",
    "  'Воспаление печени, вызванное вирусом гепатита С (HCV), который обычно распространяется через переливание крови (редко), гемодиализ и уколы иглами. Вред, который гепатит С наносит печени, может привести к циррозу и его осложнениям, а также к раку.',\n",
    "  'Мигрень может вызывать сильную пульсирующую боль или ощущение пульсации, обычно с одной стороны головы. Она часто сопровождается тошнотой, рвотой и повышенной чувствительностью к свету и звуку. Приступы мигрени могут длиться от нескольких часов до нескольких дней, а боль может быть настолько серьезным, чтобы это мешало вашей повседневной деятельности',\n",
    "  'Бронхиальная астма — это заболевание, при котором дыхательные пути легких отекают и сужаются. Из-за этого отека в дыхательных путях образуется избыток слизи, что затрудняет дыхание, что приводит к кашлю, одышке и свистящему дыханию. Заболевание хроническое и мешает повседневной работе.',\n",
    "  'Алкогольный гепатит — это болезненное воспалительное состояние печени, вызванное чрезмерным употреблением алкоголя в течение длительного периода времени. Он также усугубляется запоями и постоянным употреблением алкоголя. Если у вас развивается это состояние, вы должны прекратить употребление алкоголя',\n",
    "  'Желтое окрашивание кожи и склер (белков глаз) из-за аномально высокого уровня в крови желчного пигмента билирубина. Пожелтение распространяется на другие ткани и жидкости организма. Когда-то желтуху называли \"morbus regius\" (\"царская болезнь\") из-за убеждения, что только прикосновение короля может вылечить ее.',\n",
    "  'Редкая форма воспаления печени, вызванная заражением вирусом гепатита Е (HEV). Он передается через пищу или питье, которыми пользовался инфицированный человек, или через зараженные источники воды в местах, где фекалии могут попасть в воду. Гепатит Е не вызывает хронического заболевания печени.',\n",
    "  'острое инфекционное заболевание, вызываемое флавивирусом (видом вируса денге рода Flavivirus), передающееся комарами рода Aedes, характеризующееся головной болью, сильной болью в суставах и сыпью. — называемая также лихорадкой переломов, лихорадкой денге.',\n",
    "  'Гепатит D, также известный как вирус гепатита дельта, представляет собой инфекцию, вызывающую воспаление печени. Этот отек может ухудшить функцию печени и вызвать долгосрочные проблемы с печенью, включая рубцевание печени и рак. Состояние вызвано вирусом гепатита D (HDV).',\n",
    "  'Гибель сердечной мышцы из-за потери кровоснабжения. Потеря кровоснабжения обычно вызвана полной закупоркой коронарной артерии, одной из артерий, снабжающих кровью сердечную мышцу.',\n",
    "  'Пневмония — это инфекция в одном или обоих легких. Его вызывают бактерии, вирусы и грибки. Инфекция вызывает воспаление в воздушных мешочках в легких, которые называются альвеолами. Альвеолы заполняются жидкостью или гноем, что затрудняет дыхание.',\n",
    "  'Артрит — это отек и болезненность одного или нескольких суставов. Основными симптомами артрита являются боль в суставах и скованность, которые обычно усиливаются с возрастом. Наиболее распространенными типами артрита являются остеоартрит и ревматоидный артрит.',\n",
    "  'Гастроэнтерит – это воспаление пищеварительного тракта, особенно желудка, толстого и тонкого кишечника. Вирусный и бактериальный гастроэнтерит — это кишечные инфекции, сопровождающиеся симптомами диареи, спазмов в животе, тошноты и рвоты.',\n",
    "  'Туберкулез (ТБ) — это инфекционное заболевание, обычно вызываемое бактериями Mycobacterium tuberculosis (MTB). Туберкулез обычно поражает легкие, но может поражать и другие части тела. Большинство инфекций не проявляют симптомов, и в этом случае они известны как латентный туберкулез']"
   ]
  },
  {
   "cell_type": "code",
   "execution_count": 43,
   "metadata": {},
   "outputs": [],
   "source": [
    "descr_eng_to_ru = {x[0]:x[1] for x in zip(list(df_description.Description),ru_descr)}\n",
    "descr_ru_to_eng = {x[0]:x[1] for x in zip(ru_descr,list(df_description.Description))}"
   ]
  },
  {
   "cell_type": "markdown",
   "metadata": {},
   "source": [
    "### Рекомендации"
   ]
  },
  {
   "cell_type": "code",
   "execution_count": 44,
   "metadata": {},
   "outputs": [],
   "source": [
    "all_precs = [x for row in df_precaution.iloc[:,1:].values for x in row if type(x) != float]\n",
    "all_precs = list(set(all_precs))\n",
    "all_precs.sort()"
   ]
  },
  {
   "cell_type": "code",
   "execution_count": 45,
   "metadata": {},
   "outputs": [],
   "source": [
    "ru_precs = ['Обратитесь в ближайшую больницу',\n",
    "  'ацетаминофен',\n",
    "  'лекарство против зуда',\n",
    "  'антибиотическая терапия',\n",
    "  'нанести каламин',\n",
    "  'избегайте резких движений головой',\n",
    "  'избегайте холодной пищи',\n",
    "  'избегайте жирной острой пищи',\n",
    "  'избегайте лежания после еды',\n",
    "  'избегайте невегетарианской пищи',\n",
    "  'избегайте жирной пищи',\n",
    "  'избегать открытых порезов',\n",
    "  'избегайте общественных мест',\n",
    "  'избегайте внезапных изменений в теле',\n",
    "  'избегайте слишком большого количества продуктов',\n",
    "  'купаться дважды',\n",
    "  'вызовите скорую помощь',\n",
    "  'проверить пульс',\n",
    "  'жевать или глотать аспирин',\n",
    "  'холодные ванны',\n",
    "  'проконсультируйтесь со специализированным врачом',\n",
    "  'проконсультируйтесь в ближайшей больнице',\n",
    "  'пить сок алоэ вера',\n",
    "  'употреблять расторопшу',\n",
    "  'употреблять листья нима',\n",
    "  'употребляйте пробиотические продукты',\n",
    "  'употребить гамамелис',\n",
    "  'область покрытия повязкой',\n",
    "  'прикрыть рот',\n",
    "  'не стой долго на месте',\n",
    "  'пить клюквенный сок',\n",
    "  'пить сок листьев папайи',\n",
    "  'пить много воды',\n",
    "  'пить сладкие напитки',\n",
    "  'пить напитки, богатые витамином С',\n",
    "  'легко возвращаться к еде',\n",
    "  'ешьте фрукты и продукты с высоким содержанием клетчатки',\n",
    "  'здоровое питание',\n",
    "  'ешьте высококалорийные овощи',\n",
    "  'исключить молоко',\n",
    "  'упражнения',\n",
    "  'следовать рекомендациям',\n",
    "  'избавиться от раздражителя',\n",
    "  'выспаться',\n",
    "  'иметь сбалансированную диету',\n",
    "  'увеличить потребление витамина С',\n",
    "  'сохранять спокойствие',\n",
    "  'держать лихорадку под контролем',\n",
    "  'следить за обезвоживанием',\n",
    "  'Держите зараженную область сухой',\n",
    "  'отпугивать комаров',\n",
    "  'не пускать комаров',\n",
    "  'лечь',\n",
    "  'лечь ровно и высоко поднять ногу',\n",
    "  'лежать на боку',\n",
    "  'ограничьте употребление алкоголя',\n",
    "  'поддерживать здоровый вес',\n",
    "  'массаж',\n",
    "  'медикаменты',\n",
    "  'медитация',\n",
    "  'снизить стресс',\n",
    "  'расслабляться',\n",
    "  'удалить коросту влажной сжатой тканью',\n",
    "  'отдых',\n",
    "  'соляные ванны',\n",
    "  'найти помощь',\n",
    "  'замочите пораженный участок в теплой воде',\n",
    "  'прекратить употребление алкоголя',\n",
    "  'остановить кровотечение с помощью давления',\n",
    "  'ненадолго прекратить есть твердую пищу',\n",
    "  'остановить раздражение',\n",
    "  'прекратить принимать наркотики',\n",
    "  'перейти на свободную одежду',\n",
    "  'сделать глубокий вдох',\n",
    "  'принимать безрецептурное болеутоляющее',\n",
    "  'принимать пробиотики',\n",
    "  'лечиться радиоактивным йодом',\n",
    "  'принять вакцину',\n",
    "  'вдыхать пары',\n",
    "  'попробовать иглоукалывание',\n",
    "  'попробуйте делать маленькие глотки воды',\n",
    "  'использовать антибиотики',\n",
    "  'использовать чистые тряпки',\n",
    "  'использовать детол или ним в воде для купания',\n",
    "  'используйте грелку или холодный компресс',\n",
    "  'используйте горячую и холодную терапию',\n",
    "  'используйте лед, чтобы сжать зуд',\n",
    "  'использовать лимонную мяту',\n",
    "  'использовать ним в купании',\n",
    "  'использовать мази',\n",
    "  'используйте полороидные очки на солнце',\n",
    "  'использовать компрессию вен',\n",
    "  'прививка',\n",
    "  'теплая ванна с английской солью',\n",
    "  'вымыть руки',\n",
    "  'мыть руки теплой водой с мылом',\n",
    "  'наденьте средства индивидуальной защиты, если это возможно']"
   ]
  },
  {
   "cell_type": "code",
   "execution_count": 46,
   "metadata": {},
   "outputs": [],
   "source": [
    "ru_precs = [val.capitalize() for val in ru_precs]"
   ]
  },
  {
   "cell_type": "code",
   "execution_count": 47,
   "metadata": {},
   "outputs": [],
   "source": [
    "precs_eng_to_ru = {x[0]:x[1] for x in zip(all_precs,ru_precs)}\n",
    "precs_ru_to_eng = {x[0]:x[1] for x in zip(ru_precs,all_precs)}"
   ]
  },
  {
   "cell_type": "markdown",
   "metadata": {},
   "source": [
    "### jsonы"
   ]
  },
  {
   "cell_type": "code",
   "execution_count": 48,
   "metadata": {},
   "outputs": [],
   "source": [
    "json.dump(precs_eng_to_ru, open(\"json/precs_eng_to_ru.json\", \"w\"), indent=4, ensure_ascii=False)\n",
    "json.dump(precs_ru_to_eng, open(\"json/precs_ru_to_eng.json\", \"w\"), indent=4, ensure_ascii=False)"
   ]
  },
  {
   "cell_type": "code",
   "execution_count": 49,
   "metadata": {},
   "outputs": [],
   "source": [
    "json.dump(descr_eng_to_ru, open(\"json/descr_eng_to_ru.json\", \"w\"), indent=4, ensure_ascii=False)\n",
    "json.dump(descr_ru_to_eng, open(\"json/descr_ru_to_eng.json\", \"w\"), indent=4, ensure_ascii=False) "
   ]
  },
  {
   "cell_type": "code",
   "execution_count": 50,
   "metadata": {},
   "outputs": [],
   "source": [
    "json.dump(disease_eng_to_ru, open(\"json/disease_eng_to_ru.json\", \"w\"), indent=4, ensure_ascii=False) \n",
    "json.dump(disease_ru_to_eng, open(\"json/disease_ru_to_eng.json\", \"w\"), indent=4, ensure_ascii=False)"
   ]
  },
  {
   "cell_type": "code",
   "execution_count": 51,
   "metadata": {},
   "outputs": [],
   "source": [
    "json.dump(symp_eng_to_ru, open(\"json/symp_eng_to_ru.json\", \"w\"), indent=4, ensure_ascii=False)\n",
    "json.dump(symp_ru_to_eng, open(\"json/symp_ru_to_eng.json\", \"w\"), indent=4, ensure_ascii=False)"
   ]
  },
  {
   "cell_type": "code",
   "execution_count": 52,
   "metadata": {},
   "outputs": [],
   "source": [
    "json.dump(di_severity_weights, open(\"json/severity_weights.json\", \"w\"), indent=4, ensure_ascii=False)"
   ]
  },
  {
   "cell_type": "code",
   "execution_count": 53,
   "metadata": {},
   "outputs": [],
   "source": [
    "json.dump(di_description, open(\"json/description.json\", \"w\"), indent=4, ensure_ascii=False)\n",
    "json.dump(di_precaution, open(\"json/precaution.json\", \"w\"), indent=4, ensure_ascii=False)"
   ]
  },
  {
   "cell_type": "markdown",
   "metadata": {},
   "source": [
    "## Предикты"
   ]
  },
  {
   "cell_type": "code",
   "execution_count": 54,
   "metadata": {
    "tags": []
   },
   "outputs": [],
   "source": [
    "def prediction(model, data: list):\n",
    "    pred = model.predict([data])[0]\n",
    "    descr = di_description[pred]\n",
    "    precaution = di_precaution[pred]\n",
    "    result = {'Disease':disease_eng_to_ru[pred], 'Description':descr_eng_to_ru[descr], 'Precaution':[precs_eng_to_ru[prec] for prec in precaution]}\n",
    "    return result"
   ]
  },
  {
   "cell_type": "code",
   "execution_count": 55,
   "metadata": {
    "tags": []
   },
   "outputs": [
    {
     "data": {
      "text/plain": [
       "{'Disease': 'Псориаз',\n",
       " 'Description': 'Псориаз — это распространенное кожное заболевание, при котором образуются толстые, красные, неровные пятна, покрытые серебристыми чешуйками. Они могут появиться где угодно, но чаще всего появляются на коже головы, локтях, коленях и нижней части спины. Псориаз не передается от человека к человеку. Иногда это случается у членов одной семьи.',\n",
       " 'Precaution': ['Мыть руки теплой водой с мылом',\n",
       "  'Остановить кровотечение с помощью давления',\n",
       "  'Проконсультируйтесь со специализированным врачом',\n",
       "  'Соляные ванны']}"
      ]
     },
     "execution_count": 55,
     "metadata": {},
     "output_type": "execute_result"
    }
   ],
   "source": [
    "sympotms = [3,5,6,1,3,4,1,1,0,0,0,0,0,0,0,0,0]\n",
    "prediction(random_forest, sympotms)"
   ]
  },
  {
   "cell_type": "code",
   "execution_count": 56,
   "metadata": {
    "tags": []
   },
   "outputs": [
    {
     "data": {
      "text/plain": [
       "{'Disease': 'Паралич (кровоизлияние в мозг)',\n",
       " 'Description': 'Внутримозговое кровоизлияние (ВМК) — это когда кровь внезапно прорывается в мозговую ткань, вызывая повреждение мозга. Симптомы обычно появляются внезапно во время ВЧК. Они включают головную боль, слабость, спутанность сознания и паралич, особенно на одной стороне тела.',\n",
       " 'Precaution': ['Массаж',\n",
       "  'Здоровое питание',\n",
       "  'Упражнения',\n",
       "  'Проконсультируйтесь со специализированным врачом']}"
      ]
     },
     "execution_count": 56,
     "metadata": {},
     "output_type": "execute_result"
    }
   ],
   "source": [
    "prediction(random_forest, [6,4,1,1,0,0,0,0,0,0,0,0,0,0,0,0,0])"
   ]
  },
  {
   "cell_type": "markdown",
   "metadata": {},
   "source": [
    "### Сохранение"
   ]
  },
  {
   "cell_type": "code",
   "execution_count": 57,
   "metadata": {
    "tags": []
   },
   "outputs": [],
   "source": [
    "filename = 'model1_rf.pkl'\n",
    "pickle.dump(random_forest, open(f'model/{filename}','wb'))"
   ]
  },
  {
   "cell_type": "code",
   "execution_count": 58,
   "metadata": {
    "tags": []
   },
   "outputs": [],
   "source": [
    "clff = pickle.load(open(f'model/{filename}','rb'))"
   ]
  },
  {
   "cell_type": "code",
   "execution_count": 59,
   "metadata": {
    "tags": []
   },
   "outputs": [
    {
     "data": {
      "text/plain": [
       "{'Disease': 'Паралич (кровоизлияние в мозг)',\n",
       " 'Description': 'Внутримозговое кровоизлияние (ВМК) — это когда кровь внезапно прорывается в мозговую ткань, вызывая повреждение мозга. Симптомы обычно появляются внезапно во время ВЧК. Они включают головную боль, слабость, спутанность сознания и паралич, особенно на одной стороне тела.',\n",
       " 'Precaution': ['Массаж',\n",
       "  'Здоровое питание',\n",
       "  'Упражнения',\n",
       "  'Проконсультируйтесь со специализированным врачом']}"
      ]
     },
     "execution_count": 59,
     "metadata": {},
     "output_type": "execute_result"
    }
   ],
   "source": [
    "prediction(clff, [6,4,1,1,0,0,0,0,0,0,0,0,0,0,0,0,0])"
   ]
  },
  {
   "cell_type": "code",
   "execution_count": null,
   "metadata": {},
   "outputs": [],
   "source": []
  },
  {
   "cell_type": "code",
   "execution_count": null,
   "metadata": {},
   "outputs": [],
   "source": []
  }
 ],
 "metadata": {
  "kernelspec": {
   "display_name": "Python 3 (ipykernel)",
   "language": "python",
   "name": "python3"
  },
  "language_info": {
   "codemirror_mode": {
    "name": "ipython",
    "version": 3
   },
   "file_extension": ".py",
   "mimetype": "text/x-python",
   "name": "python",
   "nbconvert_exporter": "python",
   "pygments_lexer": "ipython3",
   "version": "3.8.13"
  }
 },
 "nbformat": 4,
 "nbformat_minor": 4
}
