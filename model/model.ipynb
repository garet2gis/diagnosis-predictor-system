{
 "cells": [
  {
   "cell_type": "code",
   "execution_count": 62,
   "metadata": {
    "tags": []
   },
   "outputs": [],
   "source": [
    "import pickle\n",
    "import json\n",
    "import numpy as np"
   ]
  },
  {
   "cell_type": "code",
   "execution_count": 42,
   "metadata": {},
   "outputs": [],
   "source": [
    "class Model_prediction:\n",
    "    \n",
    "    def __init__(self, model):\n",
    "        self._model = model\n",
    "        \n",
    "        \n",
    "    def __json_to_dict(self):\n",
    "        with open('json/description.json', 'r') as f:\n",
    "            self.di_description = json.load(f)\n",
    "        with open('json/precaution.json', 'r') as f:\n",
    "            self.di_precaution = json.load(f)\n",
    "        with open('json/disease_eng_to_ru.json', 'r') as f:\n",
    "            self.disease_eng_to_ru = json.load(f)\n",
    "        with open('json/descr_eng_to_ru.json', 'r') as f:\n",
    "            self.descr_eng_to_ru = json.load(f)\n",
    "        with open('json/precs_eng_to_ru.json', 'r') as f:\n",
    "            self.precs_eng_to_ru = json.load(f)\n",
    "            \n",
    "    \n",
    "    def prediction(self, data: list) -> json:\n",
    "        self.__json_to_dict()\n",
    "        pred = self._model.predict([data])[0]\n",
    "        descr = self.di_description[pred]\n",
    "        precaution = self.di_precaution[pred]\n",
    "        result = {'Disease':self.disease_eng_to_ru[pred], \n",
    "                  'Description':self.descr_eng_to_ru[descr], \n",
    "                  'Precaution':[self.precs_eng_to_ru[prec] for prec in precaution]}\n",
    "        return json.dumps(result, indent=4, ensure_ascii=False)"
   ]
  },
  {
   "cell_type": "code",
   "execution_count": null,
   "metadata": {},
   "outputs": [],
   "source": []
  },
  {
   "cell_type": "code",
   "execution_count": 75,
   "metadata": {},
   "outputs": [],
   "source": [
    "with open('json/severity_weights.json', 'r') as f:\n",
    "    severity_weights = json.load(f)"
   ]
  },
  {
   "cell_type": "code",
   "execution_count": 76,
   "metadata": {},
   "outputs": [],
   "source": [
    "def symps_to_labels(symps):\n",
    "    arr = np.array([severity_weights[symp] for symp in symps])\n",
    "    return np.pad(arr, (0, 17-len(arr))).tolist()"
   ]
  },
  {
   "cell_type": "code",
   "execution_count": 77,
   "metadata": {
    "tags": []
   },
   "outputs": [],
   "source": [
    "model1 = pickle.load(open('model/model1_rf.pkl','rb'))"
   ]
  },
  {
   "cell_type": "code",
   "execution_count": 78,
   "metadata": {},
   "outputs": [],
   "source": [
    "symps = ['skin_rash','shivering','spotting_urination','itching',\n",
    "         'skin_rash','nodal_skin_eruptions','itching','itching']"
   ]
  },
  {
   "cell_type": "code",
   "execution_count": 79,
   "metadata": {},
   "outputs": [],
   "source": [
    "sympotms = symps_to_labels(symps)"
   ]
  },
  {
   "cell_type": "code",
   "execution_count": 86,
   "metadata": {},
   "outputs": [
    {
     "data": {
      "text/plain": [
       "'{\\n    \"Disease\": \"Псориаз\",\\n    \"Description\": \"Псориаз — это распространенное кожное заболевание, при котором образуются толстые, красные, неровные пятна, покрытые серебристыми чешуйками. Они могут появиться где угодно, но чаще всего появляются на коже головы, локтях, коленях и нижней части спины. Псориаз не передается от человека к человеку. Иногда это случается у членов одной семьи.\",\\n    \"Precaution\": [\\n        \"Мыть руки теплой водой с мылом\",\\n        \"Остановить кровотечение с помощью давления\",\\n        \"Проконсультируйтесь со специализированным врачом\",\\n        \"Соляные ванны\"\\n    ]\\n}'"
      ]
     },
     "execution_count": 86,
     "metadata": {},
     "output_type": "execute_result"
    }
   ],
   "source": [
    "model = Model_prediction(model1)\n",
    "pred = model.prediction(sympotms)\n",
    "pred"
   ]
  },
  {
   "cell_type": "code",
   "execution_count": 85,
   "metadata": {},
   "outputs": [
    {
     "data": {
      "text/plain": [
       "{'Disease': 'Псориаз',\n",
       " 'Description': 'Псориаз — это распространенное кожное заболевание, при котором образуются толстые, красные, неровные пятна, покрытые серебристыми чешуйками. Они могут появиться где угодно, но чаще всего появляются на коже головы, локтях, коленях и нижней части спины. Псориаз не передается от человека к человеку. Иногда это случается у членов одной семьи.',\n",
       " 'Precaution': ['Мыть руки теплой водой с мылом',\n",
       "  'Остановить кровотечение с помощью давления',\n",
       "  'Проконсультируйтесь со специализированным врачом',\n",
       "  'Соляные ванны']}"
      ]
     },
     "execution_count": 85,
     "metadata": {},
     "output_type": "execute_result"
    }
   ],
   "source": [
    "json.loads(pred)"
   ]
  },
  {
   "cell_type": "code",
   "execution_count": null,
   "metadata": {},
   "outputs": [],
   "source": []
  }
 ],
 "metadata": {
  "kernelspec": {
   "display_name": "Python 3 (ipykernel)",
   "language": "python",
   "name": "python3"
  },
  "language_info": {
   "codemirror_mode": {
    "name": "ipython",
    "version": 3
   },
   "file_extension": ".py",
   "mimetype": "text/x-python",
   "name": "python",
   "nbconvert_exporter": "python",
   "pygments_lexer": "ipython3",
   "version": "3.8.13"
  }
 },
 "nbformat": 4,
 "nbformat_minor": 4
}
